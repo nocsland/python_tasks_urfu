{
 "cells": [
  {
   "cell_type": "code",
   "execution_count": 4,
   "metadata": {
    "collapsed": true,
    "ExecuteTime": {
     "end_time": "2023-10-30T18:09:35.194848900Z",
     "start_time": "2023-10-30T18:09:33.214147800Z"
    }
   },
   "outputs": [
    {
     "data": {
      "text/plain": "   Целые\nA     10\nB     26\nC     30\nD     40",
      "text/html": "<div>\n<style scoped>\n    .dataframe tbody tr th:only-of-type {\n        vertical-align: middle;\n    }\n\n    .dataframe tbody tr th {\n        vertical-align: top;\n    }\n\n    .dataframe thead th {\n        text-align: right;\n    }\n</style>\n<table border=\"1\" class=\"dataframe\">\n  <thead>\n    <tr style=\"text-align: right;\">\n      <th></th>\n      <th>Целые</th>\n    </tr>\n  </thead>\n  <tbody>\n    <tr>\n      <th>A</th>\n      <td>10</td>\n    </tr>\n    <tr>\n      <th>B</th>\n      <td>26</td>\n    </tr>\n    <tr>\n      <th>C</th>\n      <td>30</td>\n    </tr>\n    <tr>\n      <th>D</th>\n      <td>40</td>\n    </tr>\n  </tbody>\n</table>\n</div>"
     },
     "execution_count": 4,
     "metadata": {},
     "output_type": "execute_result"
    }
   ],
   "source": [
    "import pandas as pd\n",
    "\n",
    "df = pd.DataFrame([10,26,30,40], columns = [\"Целые\"],index = list(\"ABCD\")) # Создать таблицу\n",
    "df"
   ]
  },
  {
   "cell_type": "code",
   "execution_count": 5,
   "outputs": [
    {
     "data": {
      "text/plain": "Index(['A', 'B', 'C', 'D'], dtype='object')"
     },
     "execution_count": 5,
     "metadata": {},
     "output_type": "execute_result"
    }
   ],
   "source": [
    "df.index # Вывести все индексы"
   ],
   "metadata": {
    "collapsed": false,
    "ExecuteTime": {
     "end_time": "2023-10-30T18:09:35.269099600Z",
     "start_time": "2023-10-30T18:09:35.201851Z"
    }
   }
  },
  {
   "cell_type": "code",
   "execution_count": 6,
   "outputs": [
    {
     "data": {
      "text/plain": "Index(['Целые'], dtype='object')"
     },
     "execution_count": 6,
     "metadata": {},
     "output_type": "execute_result"
    }
   ],
   "source": [
    "df.columns"
   ],
   "metadata": {
    "collapsed": false,
    "ExecuteTime": {
     "end_time": "2023-10-30T18:09:35.432157900Z",
     "start_time": "2023-10-30T18:09:35.250096900Z"
    }
   }
  },
  {
   "cell_type": "code",
   "execution_count": 7,
   "outputs": [
    {
     "data": {
      "text/plain": "Целые    30\nName: C, dtype: int64"
     },
     "execution_count": 7,
     "metadata": {},
     "output_type": "execute_result"
    }
   ],
   "source": [
    "df.loc[\"C\"] # Вывод по значению строки"
   ],
   "metadata": {
    "collapsed": false,
    "ExecuteTime": {
     "end_time": "2023-10-30T18:09:35.641161800Z",
     "start_time": "2023-10-30T18:09:35.301268700Z"
    }
   }
  },
  {
   "cell_type": "code",
   "execution_count": 8,
   "outputs": [
    {
     "data": {
      "text/plain": "   Целые\nA     10\nD     40",
      "text/html": "<div>\n<style scoped>\n    .dataframe tbody tr th:only-of-type {\n        vertical-align: middle;\n    }\n\n    .dataframe tbody tr th {\n        vertical-align: top;\n    }\n\n    .dataframe thead th {\n        text-align: right;\n    }\n</style>\n<table border=\"1\" class=\"dataframe\">\n  <thead>\n    <tr style=\"text-align: right;\">\n      <th></th>\n      <th>Целые</th>\n    </tr>\n  </thead>\n  <tbody>\n    <tr>\n      <th>A</th>\n      <td>10</td>\n    </tr>\n    <tr>\n      <th>D</th>\n      <td>40</td>\n    </tr>\n  </tbody>\n</table>\n</div>"
     },
     "execution_count": 8,
     "metadata": {},
     "output_type": "execute_result"
    }
   ],
   "source": [
    "df.loc[[\"A\",\"D\"]] # Вывод по значениям строк"
   ],
   "metadata": {
    "collapsed": false,
    "ExecuteTime": {
     "end_time": "2023-10-30T18:09:35.708168900Z",
     "start_time": "2023-10-30T18:09:35.337410900Z"
    }
   }
  },
  {
   "cell_type": "code",
   "execution_count": 10,
   "outputs": [
    {
     "data": {
      "text/plain": "   Целые\nB     26\nC     30",
      "text/html": "<div>\n<style scoped>\n    .dataframe tbody tr th:only-of-type {\n        vertical-align: middle;\n    }\n\n    .dataframe tbody tr th {\n        vertical-align: top;\n    }\n\n    .dataframe thead th {\n        text-align: right;\n    }\n</style>\n<table border=\"1\" class=\"dataframe\">\n  <thead>\n    <tr style=\"text-align: right;\">\n      <th></th>\n      <th>Целые</th>\n    </tr>\n  </thead>\n  <tbody>\n    <tr>\n      <th>B</th>\n      <td>26</td>\n    </tr>\n    <tr>\n      <th>C</th>\n      <td>30</td>\n    </tr>\n  </tbody>\n</table>\n</div>"
     },
     "execution_count": 10,
     "metadata": {},
     "output_type": "execute_result"
    }
   ],
   "source": [
    "df.iloc[1:3] #вывод по индексу"
   ],
   "metadata": {
    "collapsed": false,
    "ExecuteTime": {
     "end_time": "2023-10-30T18:10:38.976095600Z",
     "start_time": "2023-10-30T18:10:38.878096900Z"
    }
   }
  },
  {
   "cell_type": "code",
   "execution_count": 12,
   "outputs": [
    {
     "data": {
      "text/plain": "Целые    106\ndtype: int64"
     },
     "execution_count": 12,
     "metadata": {},
     "output_type": "execute_result"
    }
   ],
   "source": [
    "df.sum() # вывести сумму всех значений"
   ],
   "metadata": {
    "collapsed": false,
    "ExecuteTime": {
     "end_time": "2023-10-30T18:13:05.199267900Z",
     "start_time": "2023-10-30T18:13:05.068698500Z"
    }
   }
  },
  {
   "cell_type": "code",
   "execution_count": null,
   "outputs": [],
   "source": [
    "df_copy = df.copy(deep=True) # Создать глубокую копию"
   ],
   "metadata": {
    "collapsed": false
   }
  },
  {
   "cell_type": "code",
   "execution_count": 13,
   "outputs": [
    {
     "data": {
      "text/plain": "   Целые  Вещественные\nA     10           1.5\nB     26           2.5\nC     30           3.5\nD     40           4.5",
      "text/html": "<div>\n<style scoped>\n    .dataframe tbody tr th:only-of-type {\n        vertical-align: middle;\n    }\n\n    .dataframe tbody tr th {\n        vertical-align: top;\n    }\n\n    .dataframe thead th {\n        text-align: right;\n    }\n</style>\n<table border=\"1\" class=\"dataframe\">\n  <thead>\n    <tr style=\"text-align: right;\">\n      <th></th>\n      <th>Целые</th>\n      <th>Вещественные</th>\n    </tr>\n  </thead>\n  <tbody>\n    <tr>\n      <th>A</th>\n      <td>10</td>\n      <td>1.5</td>\n    </tr>\n    <tr>\n      <th>B</th>\n      <td>26</td>\n      <td>2.5</td>\n    </tr>\n    <tr>\n      <th>C</th>\n      <td>30</td>\n      <td>3.5</td>\n    </tr>\n    <tr>\n      <th>D</th>\n      <td>40</td>\n      <td>4.5</td>\n    </tr>\n  </tbody>\n</table>\n</div>"
     },
     "execution_count": 13,
     "metadata": {},
     "output_type": "execute_result"
    }
   ],
   "source": [
    "df[\"Вещественные\"] = (1.5,2.5,3.5,4.5) # Добавить столбец\n",
    "df"
   ],
   "metadata": {
    "collapsed": false,
    "ExecuteTime": {
     "end_time": "2023-10-30T18:16:54.046290400Z",
     "start_time": "2023-10-30T18:16:53.988125600Z"
    }
   }
  },
  {
   "cell_type": "code",
   "execution_count": 15,
   "outputs": [
    {
     "data": {
      "text/plain": "   Целые  Вещественные    Имена\nA     10           1.5   Андрей\nB     26           2.5    Борис\nC     30           3.5  Серегей\nD     40           4.5  Дмитрий",
      "text/html": "<div>\n<style scoped>\n    .dataframe tbody tr th:only-of-type {\n        vertical-align: middle;\n    }\n\n    .dataframe tbody tr th {\n        vertical-align: top;\n    }\n\n    .dataframe thead th {\n        text-align: right;\n    }\n</style>\n<table border=\"1\" class=\"dataframe\">\n  <thead>\n    <tr style=\"text-align: right;\">\n      <th></th>\n      <th>Целые</th>\n      <th>Вещественные</th>\n      <th>Имена</th>\n    </tr>\n  </thead>\n  <tbody>\n    <tr>\n      <th>A</th>\n      <td>10</td>\n      <td>1.5</td>\n      <td>Андрей</td>\n    </tr>\n    <tr>\n      <th>B</th>\n      <td>26</td>\n      <td>2.5</td>\n      <td>Борис</td>\n    </tr>\n    <tr>\n      <th>C</th>\n      <td>30</td>\n      <td>3.5</td>\n      <td>Серегей</td>\n    </tr>\n    <tr>\n      <th>D</th>\n      <td>40</td>\n      <td>4.5</td>\n      <td>Дмитрий</td>\n    </tr>\n  </tbody>\n</table>\n</div>"
     },
     "execution_count": 15,
     "metadata": {},
     "output_type": "execute_result"
    }
   ],
   "source": [
    "df[\"Имена\"] = pd.DataFrame([\"Андрей\", \"Серегей\", \"Борис\", \"Дмитрий\"],index=list(\"ACBD\")) # Добавить столбец\n",
    "df"
   ],
   "metadata": {
    "collapsed": false,
    "ExecuteTime": {
     "end_time": "2023-10-30T18:21:08.261015700Z",
     "start_time": "2023-10-30T18:21:08.211252600Z"
    }
   }
  },
  {
   "cell_type": "code",
   "execution_count": 24,
   "outputs": [
    {
     "data": {
      "text/plain": "   Целые  Вещественные    Имена\nA     10           1.5   Андрей\nB     26           2.5    Борис\nC     30           3.5  Серегей\nD     40           4.5  Дмитрий\nE     50           5.5  Евгений",
      "text/html": "<div>\n<style scoped>\n    .dataframe tbody tr th:only-of-type {\n        vertical-align: middle;\n    }\n\n    .dataframe tbody tr th {\n        vertical-align: top;\n    }\n\n    .dataframe thead th {\n        text-align: right;\n    }\n</style>\n<table border=\"1\" class=\"dataframe\">\n  <thead>\n    <tr style=\"text-align: right;\">\n      <th></th>\n      <th>Целые</th>\n      <th>Вещественные</th>\n      <th>Имена</th>\n    </tr>\n  </thead>\n  <tbody>\n    <tr>\n      <th>A</th>\n      <td>10</td>\n      <td>1.5</td>\n      <td>Андрей</td>\n    </tr>\n    <tr>\n      <th>B</th>\n      <td>26</td>\n      <td>2.5</td>\n      <td>Борис</td>\n    </tr>\n    <tr>\n      <th>C</th>\n      <td>30</td>\n      <td>3.5</td>\n      <td>Серегей</td>\n    </tr>\n    <tr>\n      <th>D</th>\n      <td>40</td>\n      <td>4.5</td>\n      <td>Дмитрий</td>\n    </tr>\n    <tr>\n      <th>E</th>\n      <td>50</td>\n      <td>5.5</td>\n      <td>Евгений</td>\n    </tr>\n  </tbody>\n</table>\n</div>"
     },
     "execution_count": 24,
     "metadata": {},
     "output_type": "execute_result"
    }
   ],
   "source": [
    "df_a = pd.DataFrame({\"Целые\": 50, \"Вещественные\": 5.5, \"Имена\": \"Евгений\"},index=['E'])\n",
    "df = pd.concat([df, df_a], axis=0) # Добавить строку\n",
    "df"
   ],
   "metadata": {
    "collapsed": false,
    "ExecuteTime": {
     "end_time": "2023-10-30T18:34:56.250880600Z",
     "start_time": "2023-10-30T18:34:56.218953Z"
    }
   }
  },
  {
   "cell_type": "code",
   "execution_count": 25,
   "outputs": [
    {
     "data": {
      "text/plain": "Целые           31.2\nВещественные     3.5\ndtype: float64"
     },
     "execution_count": 25,
     "metadata": {},
     "output_type": "execute_result"
    }
   ],
   "source": [
    "df[[\"Целые\",\"Вещественные\"]].mean() # Найти средние значения"
   ],
   "metadata": {
    "collapsed": false,
    "ExecuteTime": {
     "end_time": "2023-10-30T18:38:25.534827500Z",
     "start_time": "2023-10-30T18:38:25.397025900Z"
    }
   }
  },
  {
   "cell_type": "code",
   "execution_count": 31,
   "outputs": [
    {
     "data": {
      "text/plain": "   Целые  Вещественные    Имена Удалить\nA     10           1.5   Андрей       1\nB     26           2.5    Борис       2\nC     30           3.5  Серегей       3\nD     40           4.5  Дмитрий       4\nE     50           5.5  Евгений       5",
      "text/html": "<div>\n<style scoped>\n    .dataframe tbody tr th:only-of-type {\n        vertical-align: middle;\n    }\n\n    .dataframe tbody tr th {\n        vertical-align: top;\n    }\n\n    .dataframe thead th {\n        text-align: right;\n    }\n</style>\n<table border=\"1\" class=\"dataframe\">\n  <thead>\n    <tr style=\"text-align: right;\">\n      <th></th>\n      <th>Целые</th>\n      <th>Вещественные</th>\n      <th>Имена</th>\n      <th>Удалить</th>\n    </tr>\n  </thead>\n  <tbody>\n    <tr>\n      <th>A</th>\n      <td>10</td>\n      <td>1.5</td>\n      <td>Андрей</td>\n      <td>1</td>\n    </tr>\n    <tr>\n      <th>B</th>\n      <td>26</td>\n      <td>2.5</td>\n      <td>Борис</td>\n      <td>2</td>\n    </tr>\n    <tr>\n      <th>C</th>\n      <td>30</td>\n      <td>3.5</td>\n      <td>Серегей</td>\n      <td>3</td>\n    </tr>\n    <tr>\n      <th>D</th>\n      <td>40</td>\n      <td>4.5</td>\n      <td>Дмитрий</td>\n      <td>4</td>\n    </tr>\n    <tr>\n      <th>E</th>\n      <td>50</td>\n      <td>5.5</td>\n      <td>Евгений</td>\n      <td>5</td>\n    </tr>\n  </tbody>\n</table>\n</div>"
     },
     "execution_count": 31,
     "metadata": {},
     "output_type": "execute_result"
    }
   ],
   "source": [
    "df[\"Удалить\"] = pd.DataFrame(list(\"12345\"),index=list(\"ABCDE\")) # Добавить столбец\n",
    "df"
   ],
   "metadata": {
    "collapsed": false,
    "ExecuteTime": {
     "end_time": "2023-10-30T18:45:36.157814200Z",
     "start_time": "2023-10-30T18:45:36.063048700Z"
    }
   }
  },
  {
   "cell_type": "code",
   "execution_count": 41,
   "outputs": [
    {
     "data": {
      "text/plain": "   Целые  Вещественные    Имена\nA     10           1.5   Андрей\nB     26           2.5    Борис\nC     30           3.5  Серегей\nD     40           4.5  Дмитрий\nE     50           5.5  Евгений",
      "text/html": "<div>\n<style scoped>\n    .dataframe tbody tr th:only-of-type {\n        vertical-align: middle;\n    }\n\n    .dataframe tbody tr th {\n        vertical-align: top;\n    }\n\n    .dataframe thead th {\n        text-align: right;\n    }\n</style>\n<table border=\"1\" class=\"dataframe\">\n  <thead>\n    <tr style=\"text-align: right;\">\n      <th></th>\n      <th>Целые</th>\n      <th>Вещественные</th>\n      <th>Имена</th>\n    </tr>\n  </thead>\n  <tbody>\n    <tr>\n      <th>A</th>\n      <td>10</td>\n      <td>1.5</td>\n      <td>Андрей</td>\n    </tr>\n    <tr>\n      <th>B</th>\n      <td>26</td>\n      <td>2.5</td>\n      <td>Борис</td>\n    </tr>\n    <tr>\n      <th>C</th>\n      <td>30</td>\n      <td>3.5</td>\n      <td>Серегей</td>\n    </tr>\n    <tr>\n      <th>D</th>\n      <td>40</td>\n      <td>4.5</td>\n      <td>Дмитрий</td>\n    </tr>\n    <tr>\n      <th>E</th>\n      <td>50</td>\n      <td>5.5</td>\n      <td>Евгений</td>\n    </tr>\n  </tbody>\n</table>\n</div>"
     },
     "execution_count": 41,
     "metadata": {},
     "output_type": "execute_result"
    }
   ],
   "source": [
    "df = df.drop(['Удалить'],axis=1) # Удалить столбец\n",
    "df"
   ],
   "metadata": {
    "collapsed": false,
    "ExecuteTime": {
     "end_time": "2023-10-30T18:51:40.947939600Z",
     "start_time": "2023-10-30T18:51:40.856884900Z"
    }
   }
  }
 ],
 "metadata": {
  "kernelspec": {
   "display_name": "Python 3",
   "language": "python",
   "name": "python3"
  },
  "language_info": {
   "codemirror_mode": {
    "name": "ipython",
    "version": 2
   },
   "file_extension": ".py",
   "mimetype": "text/x-python",
   "name": "python",
   "nbconvert_exporter": "python",
   "pygments_lexer": "ipython2",
   "version": "2.7.6"
  }
 },
 "nbformat": 4,
 "nbformat_minor": 0
}

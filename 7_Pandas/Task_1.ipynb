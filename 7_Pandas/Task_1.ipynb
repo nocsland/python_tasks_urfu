{
 "cells": [
  {
   "cell_type": "code",
   "execution_count": 1,
   "metadata": {
    "collapsed": true,
    "ExecuteTime": {
     "end_time": "2023-10-30T18:55:58.063140600Z",
     "start_time": "2023-10-30T18:55:56.868946900Z"
    }
   },
   "outputs": [
    {
     "data": {
      "text/plain": "'tentwentythirtyforty'"
     },
     "execution_count": 1,
     "metadata": {},
     "output_type": "execute_result"
    }
   ],
   "source": [
    "import pandas as pd\n",
    "df = pd.DataFrame([10,20,30,40],\n",
    "                  columns=['Числа'],\n",
    "                  index=[1,2,3,4])\n",
    "df['Слова']=[\"ten\",\"twenty\",\"thirty\",\"forty\"]\n",
    "df.drop([2,3])\n",
    "df.Слова.sum()"
   ]
  }
 ],
 "metadata": {
  "kernelspec": {
   "display_name": "Python 3",
   "language": "python",
   "name": "python3"
  },
  "language_info": {
   "codemirror_mode": {
    "name": "ipython",
    "version": 2
   },
   "file_extension": ".py",
   "mimetype": "text/x-python",
   "name": "python",
   "nbconvert_exporter": "python",
   "pygments_lexer": "ipython2",
   "version": "2.7.6"
  }
 },
 "nbformat": 4,
 "nbformat_minor": 0
}

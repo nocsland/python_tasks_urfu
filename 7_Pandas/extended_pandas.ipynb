{
 "cells": [
  {
   "cell_type": "code",
   "execution_count": 2,
   "metadata": {
    "collapsed": true,
    "ExecuteTime": {
     "end_time": "2023-10-31T04:07:07.755377200Z",
     "start_time": "2023-10-31T04:07:07.678333400Z"
    }
   },
   "outputs": [
    {
     "data": {
      "text/plain": "          0         1         2         3         4\n0 -0.476473 -0.455775 -1.241204 -1.139026 -0.516083\n1 -1.060998  0.627175  0.792452  0.831093  1.411354\n2 -0.140490 -0.370728 -0.762902  0.026820 -0.863308\n3 -0.962678  0.159364 -0.268781 -0.105657 -0.441481\n4 -1.164944  0.407735 -0.712458  0.282742  0.379632\n5  1.149309 -0.086439 -1.711424  1.182175 -0.337429\n6 -1.251944 -0.856607 -1.225993  0.033785  0.948274\n7 -0.200751  0.700399  0.605030  1.350742 -1.072777\n8 -0.423827  0.847313  1.920423 -0.658529 -0.246276\n9 -0.156781  0.009726 -0.881913  0.187279  0.825448",
      "text/html": "<div>\n<style scoped>\n    .dataframe tbody tr th:only-of-type {\n        vertical-align: middle;\n    }\n\n    .dataframe tbody tr th {\n        vertical-align: top;\n    }\n\n    .dataframe thead th {\n        text-align: right;\n    }\n</style>\n<table border=\"1\" class=\"dataframe\">\n  <thead>\n    <tr style=\"text-align: right;\">\n      <th></th>\n      <th>0</th>\n      <th>1</th>\n      <th>2</th>\n      <th>3</th>\n      <th>4</th>\n    </tr>\n  </thead>\n  <tbody>\n    <tr>\n      <th>0</th>\n      <td>-0.476473</td>\n      <td>-0.455775</td>\n      <td>-1.241204</td>\n      <td>-1.139026</td>\n      <td>-0.516083</td>\n    </tr>\n    <tr>\n      <th>1</th>\n      <td>-1.060998</td>\n      <td>0.627175</td>\n      <td>0.792452</td>\n      <td>0.831093</td>\n      <td>1.411354</td>\n    </tr>\n    <tr>\n      <th>2</th>\n      <td>-0.140490</td>\n      <td>-0.370728</td>\n      <td>-0.762902</td>\n      <td>0.026820</td>\n      <td>-0.863308</td>\n    </tr>\n    <tr>\n      <th>3</th>\n      <td>-0.962678</td>\n      <td>0.159364</td>\n      <td>-0.268781</td>\n      <td>-0.105657</td>\n      <td>-0.441481</td>\n    </tr>\n    <tr>\n      <th>4</th>\n      <td>-1.164944</td>\n      <td>0.407735</td>\n      <td>-0.712458</td>\n      <td>0.282742</td>\n      <td>0.379632</td>\n    </tr>\n    <tr>\n      <th>5</th>\n      <td>1.149309</td>\n      <td>-0.086439</td>\n      <td>-1.711424</td>\n      <td>1.182175</td>\n      <td>-0.337429</td>\n    </tr>\n    <tr>\n      <th>6</th>\n      <td>-1.251944</td>\n      <td>-0.856607</td>\n      <td>-1.225993</td>\n      <td>0.033785</td>\n      <td>0.948274</td>\n    </tr>\n    <tr>\n      <th>7</th>\n      <td>-0.200751</td>\n      <td>0.700399</td>\n      <td>0.605030</td>\n      <td>1.350742</td>\n      <td>-1.072777</td>\n    </tr>\n    <tr>\n      <th>8</th>\n      <td>-0.423827</td>\n      <td>0.847313</td>\n      <td>1.920423</td>\n      <td>-0.658529</td>\n      <td>-0.246276</td>\n    </tr>\n    <tr>\n      <th>9</th>\n      <td>-0.156781</td>\n      <td>0.009726</td>\n      <td>-0.881913</td>\n      <td>0.187279</td>\n      <td>0.825448</td>\n    </tr>\n  </tbody>\n</table>\n</div>"
     },
     "execution_count": 2,
     "metadata": {},
     "output_type": "execute_result"
    }
   ],
   "source": [
    "import numpy as np\n",
    "import pandas as pd\n",
    "\n",
    "arr = np.random.standard_normal((10, 5))  # создать 2-мерный массив со случайными величинами с нормальным распределением\n",
    "df = pd.DataFrame(arr)\n",
    "df"
   ]
  },
  {
   "cell_type": "code",
   "execution_count": 4,
   "outputs": [
    {
     "data": {
      "text/plain": "          A         B         C         D         E\n0 -0.476473 -0.455775 -1.241204 -1.139026 -0.516083\n1 -1.060998  0.627175  0.792452  0.831093  1.411354\n2 -0.140490 -0.370728 -0.762902  0.026820 -0.863308\n3 -0.962678  0.159364 -0.268781 -0.105657 -0.441481\n4 -1.164944  0.407735 -0.712458  0.282742  0.379632\n5  1.149309 -0.086439 -1.711424  1.182175 -0.337429\n6 -1.251944 -0.856607 -1.225993  0.033785  0.948274\n7 -0.200751  0.700399  0.605030  1.350742 -1.072777\n8 -0.423827  0.847313  1.920423 -0.658529 -0.246276\n9 -0.156781  0.009726 -0.881913  0.187279  0.825448",
      "text/html": "<div>\n<style scoped>\n    .dataframe tbody tr th:only-of-type {\n        vertical-align: middle;\n    }\n\n    .dataframe tbody tr th {\n        vertical-align: top;\n    }\n\n    .dataframe thead th {\n        text-align: right;\n    }\n</style>\n<table border=\"1\" class=\"dataframe\">\n  <thead>\n    <tr style=\"text-align: right;\">\n      <th></th>\n      <th>A</th>\n      <th>B</th>\n      <th>C</th>\n      <th>D</th>\n      <th>E</th>\n    </tr>\n  </thead>\n  <tbody>\n    <tr>\n      <th>0</th>\n      <td>-0.476473</td>\n      <td>-0.455775</td>\n      <td>-1.241204</td>\n      <td>-1.139026</td>\n      <td>-0.516083</td>\n    </tr>\n    <tr>\n      <th>1</th>\n      <td>-1.060998</td>\n      <td>0.627175</td>\n      <td>0.792452</td>\n      <td>0.831093</td>\n      <td>1.411354</td>\n    </tr>\n    <tr>\n      <th>2</th>\n      <td>-0.140490</td>\n      <td>-0.370728</td>\n      <td>-0.762902</td>\n      <td>0.026820</td>\n      <td>-0.863308</td>\n    </tr>\n    <tr>\n      <th>3</th>\n      <td>-0.962678</td>\n      <td>0.159364</td>\n      <td>-0.268781</td>\n      <td>-0.105657</td>\n      <td>-0.441481</td>\n    </tr>\n    <tr>\n      <th>4</th>\n      <td>-1.164944</td>\n      <td>0.407735</td>\n      <td>-0.712458</td>\n      <td>0.282742</td>\n      <td>0.379632</td>\n    </tr>\n    <tr>\n      <th>5</th>\n      <td>1.149309</td>\n      <td>-0.086439</td>\n      <td>-1.711424</td>\n      <td>1.182175</td>\n      <td>-0.337429</td>\n    </tr>\n    <tr>\n      <th>6</th>\n      <td>-1.251944</td>\n      <td>-0.856607</td>\n      <td>-1.225993</td>\n      <td>0.033785</td>\n      <td>0.948274</td>\n    </tr>\n    <tr>\n      <th>7</th>\n      <td>-0.200751</td>\n      <td>0.700399</td>\n      <td>0.605030</td>\n      <td>1.350742</td>\n      <td>-1.072777</td>\n    </tr>\n    <tr>\n      <th>8</th>\n      <td>-0.423827</td>\n      <td>0.847313</td>\n      <td>1.920423</td>\n      <td>-0.658529</td>\n      <td>-0.246276</td>\n    </tr>\n    <tr>\n      <th>9</th>\n      <td>-0.156781</td>\n      <td>0.009726</td>\n      <td>-0.881913</td>\n      <td>0.187279</td>\n      <td>0.825448</td>\n    </tr>\n  </tbody>\n</table>\n</div>"
     },
     "execution_count": 4,
     "metadata": {},
     "output_type": "execute_result"
    }
   ],
   "source": [
    "df.columns = list(\"ABCDE\")  # Добавить имена столбцов\n",
    "df"
   ],
   "metadata": {
    "collapsed": false,
    "ExecuteTime": {
     "end_time": "2023-10-31T04:12:34.549638700Z",
     "start_time": "2023-10-31T04:12:34.460495300Z"
    }
   }
  },
  {
   "cell_type": "code",
   "execution_count": 7,
   "outputs": [
    {
     "data": {
      "text/plain": "0.09821613039842524"
     },
     "execution_count": 7,
     "metadata": {},
     "output_type": "execute_result"
    }
   ],
   "source": [
    "df[\"B\"].mean()  # Вывести среднюю"
   ],
   "metadata": {
    "collapsed": false,
    "ExecuteTime": {
     "end_time": "2023-10-31T04:14:52.468784Z",
     "start_time": "2023-10-31T04:14:52.408577400Z"
    }
   }
  },
  {
   "cell_type": "code",
   "execution_count": 9,
   "outputs": [
    {
     "data": {
      "text/plain": "DatetimeIndex(['2023-01-31', '2023-02-28', '2023-03-31', '2023-04-30',\n               '2023-05-31', '2023-06-30', '2023-07-31', '2023-08-31',\n               '2023-09-30', '2023-10-31'],\n              dtype='datetime64[ns]', freq='M')"
     },
     "execution_count": 9,
     "metadata": {},
     "output_type": "execute_result"
    }
   ],
   "source": [
    "dates = pd.date_range('2023-1-1', periods=10, freq=\"M\") # создать объект datetime\n",
    "dates"
   ],
   "metadata": {
    "collapsed": false,
    "ExecuteTime": {
     "end_time": "2023-10-31T04:18:20.035440300Z",
     "start_time": "2023-10-31T04:18:19.962879600Z"
    }
   }
  },
  {
   "cell_type": "code",
   "execution_count": 10,
   "outputs": [
    {
     "data": {
      "text/plain": "                   A         B         C         D         E\n2023-01-31 -0.476473 -0.455775 -1.241204 -1.139026 -0.516083\n2023-02-28 -1.060998  0.627175  0.792452  0.831093  1.411354\n2023-03-31 -0.140490 -0.370728 -0.762902  0.026820 -0.863308\n2023-04-30 -0.962678  0.159364 -0.268781 -0.105657 -0.441481\n2023-05-31 -1.164944  0.407735 -0.712458  0.282742  0.379632\n2023-06-30  1.149309 -0.086439 -1.711424  1.182175 -0.337429\n2023-07-31 -1.251944 -0.856607 -1.225993  0.033785  0.948274\n2023-08-31 -0.200751  0.700399  0.605030  1.350742 -1.072777\n2023-09-30 -0.423827  0.847313  1.920423 -0.658529 -0.246276\n2023-10-31 -0.156781  0.009726 -0.881913  0.187279  0.825448",
      "text/html": "<div>\n<style scoped>\n    .dataframe tbody tr th:only-of-type {\n        vertical-align: middle;\n    }\n\n    .dataframe tbody tr th {\n        vertical-align: top;\n    }\n\n    .dataframe thead th {\n        text-align: right;\n    }\n</style>\n<table border=\"1\" class=\"dataframe\">\n  <thead>\n    <tr style=\"text-align: right;\">\n      <th></th>\n      <th>A</th>\n      <th>B</th>\n      <th>C</th>\n      <th>D</th>\n      <th>E</th>\n    </tr>\n  </thead>\n  <tbody>\n    <tr>\n      <th>2023-01-31</th>\n      <td>-0.476473</td>\n      <td>-0.455775</td>\n      <td>-1.241204</td>\n      <td>-1.139026</td>\n      <td>-0.516083</td>\n    </tr>\n    <tr>\n      <th>2023-02-28</th>\n      <td>-1.060998</td>\n      <td>0.627175</td>\n      <td>0.792452</td>\n      <td>0.831093</td>\n      <td>1.411354</td>\n    </tr>\n    <tr>\n      <th>2023-03-31</th>\n      <td>-0.140490</td>\n      <td>-0.370728</td>\n      <td>-0.762902</td>\n      <td>0.026820</td>\n      <td>-0.863308</td>\n    </tr>\n    <tr>\n      <th>2023-04-30</th>\n      <td>-0.962678</td>\n      <td>0.159364</td>\n      <td>-0.268781</td>\n      <td>-0.105657</td>\n      <td>-0.441481</td>\n    </tr>\n    <tr>\n      <th>2023-05-31</th>\n      <td>-1.164944</td>\n      <td>0.407735</td>\n      <td>-0.712458</td>\n      <td>0.282742</td>\n      <td>0.379632</td>\n    </tr>\n    <tr>\n      <th>2023-06-30</th>\n      <td>1.149309</td>\n      <td>-0.086439</td>\n      <td>-1.711424</td>\n      <td>1.182175</td>\n      <td>-0.337429</td>\n    </tr>\n    <tr>\n      <th>2023-07-31</th>\n      <td>-1.251944</td>\n      <td>-0.856607</td>\n      <td>-1.225993</td>\n      <td>0.033785</td>\n      <td>0.948274</td>\n    </tr>\n    <tr>\n      <th>2023-08-31</th>\n      <td>-0.200751</td>\n      <td>0.700399</td>\n      <td>0.605030</td>\n      <td>1.350742</td>\n      <td>-1.072777</td>\n    </tr>\n    <tr>\n      <th>2023-09-30</th>\n      <td>-0.423827</td>\n      <td>0.847313</td>\n      <td>1.920423</td>\n      <td>-0.658529</td>\n      <td>-0.246276</td>\n    </tr>\n    <tr>\n      <th>2023-10-31</th>\n      <td>-0.156781</td>\n      <td>0.009726</td>\n      <td>-0.881913</td>\n      <td>0.187279</td>\n      <td>0.825448</td>\n    </tr>\n  </tbody>\n</table>\n</div>"
     },
     "execution_count": 10,
     "metadata": {},
     "output_type": "execute_result"
    }
   ],
   "source": [
    "df.index = dates # добавили индекс datetime к таблице созданной ранее\n",
    "df"
   ],
   "metadata": {
    "collapsed": false,
    "ExecuteTime": {
     "end_time": "2023-10-31T04:21:24.359432700Z",
     "start_time": "2023-10-31T04:21:24.310472900Z"
    }
   }
  },
  {
   "cell_type": "code",
   "execution_count": 11,
   "outputs": [
    {
     "name": "stdout",
     "output_type": "stream",
     "text": [
      "<class 'pandas.core.frame.DataFrame'>\n",
      "DatetimeIndex: 10 entries, 2023-01-31 to 2023-10-31\n",
      "Freq: M\n",
      "Data columns (total 5 columns):\n",
      " #   Column  Non-Null Count  Dtype  \n",
      "---  ------  --------------  -----  \n",
      " 0   A       10 non-null     float64\n",
      " 1   B       10 non-null     float64\n",
      " 2   C       10 non-null     float64\n",
      " 3   D       10 non-null     float64\n",
      " 4   E       10 non-null     float64\n",
      "dtypes: float64(5)\n",
      "memory usage: 480.0 bytes\n"
     ]
    }
   ],
   "source": [
    "df.info() # получить данные об объекте df"
   ],
   "metadata": {
    "collapsed": false,
    "ExecuteTime": {
     "end_time": "2023-10-31T04:25:07.719904900Z",
     "start_time": "2023-10-31T04:25:07.685444500Z"
    }
   }
  },
  {
   "cell_type": "code",
   "execution_count": 12,
   "outputs": [
    {
     "data": {
      "text/plain": "               A          B          C          D          E\ncount  10.000000  10.000000  10.000000  10.000000  10.000000\nmean   -0.468958   0.098216  -0.348677   0.199142   0.008735\nstd     0.714135   0.556131   1.124404   0.772820   0.833185\nmin    -1.251944  -0.856607  -1.711424  -1.139026  -1.072777\n25%    -1.036418  -0.299656  -1.139973  -0.072538  -0.497433\n50%    -0.450150   0.084545  -0.737680   0.110532  -0.291853\n75%    -0.167774   0.572315   0.386577   0.694005   0.713994\nmax     1.149309   0.847313   1.920423   1.350742   1.411354",
      "text/html": "<div>\n<style scoped>\n    .dataframe tbody tr th:only-of-type {\n        vertical-align: middle;\n    }\n\n    .dataframe tbody tr th {\n        vertical-align: top;\n    }\n\n    .dataframe thead th {\n        text-align: right;\n    }\n</style>\n<table border=\"1\" class=\"dataframe\">\n  <thead>\n    <tr style=\"text-align: right;\">\n      <th></th>\n      <th>A</th>\n      <th>B</th>\n      <th>C</th>\n      <th>D</th>\n      <th>E</th>\n    </tr>\n  </thead>\n  <tbody>\n    <tr>\n      <th>count</th>\n      <td>10.000000</td>\n      <td>10.000000</td>\n      <td>10.000000</td>\n      <td>10.000000</td>\n      <td>10.000000</td>\n    </tr>\n    <tr>\n      <th>mean</th>\n      <td>-0.468958</td>\n      <td>0.098216</td>\n      <td>-0.348677</td>\n      <td>0.199142</td>\n      <td>0.008735</td>\n    </tr>\n    <tr>\n      <th>std</th>\n      <td>0.714135</td>\n      <td>0.556131</td>\n      <td>1.124404</td>\n      <td>0.772820</td>\n      <td>0.833185</td>\n    </tr>\n    <tr>\n      <th>min</th>\n      <td>-1.251944</td>\n      <td>-0.856607</td>\n      <td>-1.711424</td>\n      <td>-1.139026</td>\n      <td>-1.072777</td>\n    </tr>\n    <tr>\n      <th>25%</th>\n      <td>-1.036418</td>\n      <td>-0.299656</td>\n      <td>-1.139973</td>\n      <td>-0.072538</td>\n      <td>-0.497433</td>\n    </tr>\n    <tr>\n      <th>50%</th>\n      <td>-0.450150</td>\n      <td>0.084545</td>\n      <td>-0.737680</td>\n      <td>0.110532</td>\n      <td>-0.291853</td>\n    </tr>\n    <tr>\n      <th>75%</th>\n      <td>-0.167774</td>\n      <td>0.572315</td>\n      <td>0.386577</td>\n      <td>0.694005</td>\n      <td>0.713994</td>\n    </tr>\n    <tr>\n      <th>max</th>\n      <td>1.149309</td>\n      <td>0.847313</td>\n      <td>1.920423</td>\n      <td>1.350742</td>\n      <td>1.411354</td>\n    </tr>\n  </tbody>\n</table>\n</div>"
     },
     "execution_count": 12,
     "metadata": {},
     "output_type": "execute_result"
    }
   ],
   "source": [
    "df.describe() # получить статистические данные об объекте df"
   ],
   "metadata": {
    "collapsed": false,
    "ExecuteTime": {
     "end_time": "2023-10-31T04:26:36.940242900Z",
     "start_time": "2023-10-31T04:26:36.869346300Z"
    }
   }
  },
  {
   "cell_type": "code",
   "execution_count": 13,
   "outputs": [
    {
     "data": {
      "text/plain": "A   -4.689576\nB    0.982161\nC   -3.486771\nD    1.991424\nE    0.087352\ndtype: float64"
     },
     "execution_count": 13,
     "metadata": {},
     "output_type": "execute_result"
    }
   ],
   "source": [
    "df.sum() # получить суммы по столбцам"
   ],
   "metadata": {
    "collapsed": false,
    "ExecuteTime": {
     "end_time": "2023-10-31T04:28:13.921612200Z",
     "start_time": "2023-10-31T04:28:13.859825900Z"
    }
   }
  },
  {
   "cell_type": "code",
   "execution_count": 14,
   "outputs": [
    {
     "data": {
      "text/plain": "A   -0.468958\nB    0.098216\nC   -0.348677\nD    0.199142\nE    0.008735\ndtype: float64"
     },
     "execution_count": 14,
     "metadata": {},
     "output_type": "execute_result"
    }
   ],
   "source": [
    "df.mean() # получить среднее по столбцам"
   ],
   "metadata": {
    "collapsed": false,
    "ExecuteTime": {
     "end_time": "2023-10-31T04:29:12.312755200Z",
     "start_time": "2023-10-31T04:29:12.233044300Z"
    }
   }
  },
  {
   "cell_type": "code",
   "execution_count": 17,
   "outputs": [
    {
     "data": {
      "text/plain": "2023-01-31   -0.765712\n2023-02-28    0.520215\n2023-03-31   -0.422122\n2023-04-30   -0.323847\n2023-05-31   -0.161459\n2023-06-30    0.039238\n2023-07-31   -0.470497\n2023-08-31    0.276528\n2023-09-30    0.287821\n2023-10-31   -0.003248\nFreq: M, dtype: float64"
     },
     "execution_count": 17,
     "metadata": {},
     "output_type": "execute_result"
    }
   ],
   "source": [
    "df.mean(axis=1) # получить среднее по строкам"
   ],
   "metadata": {
    "collapsed": false,
    "ExecuteTime": {
     "end_time": "2023-10-31T04:30:50.397561700Z",
     "start_time": "2023-10-31T04:30:50.355410500Z"
    }
   }
  },
  {
   "cell_type": "code",
   "execution_count": 18,
   "outputs": [
    {
     "data": {
      "text/plain": "                   A         B         C         D         E\n2023-01-31 -0.476473 -0.455775 -1.241204 -1.139026 -0.516083\n2023-02-28 -1.537470  0.171400 -0.448752 -0.307933  0.895270\n2023-03-31 -1.677960 -0.199329 -1.211655 -0.281112  0.031962\n2023-04-30 -2.640638 -0.039965 -1.480435 -0.386769 -0.409519\n2023-05-31 -3.805582  0.367769 -2.192894 -0.104027 -0.029887\n2023-06-30 -2.656273  0.281330 -3.904318  1.078147 -0.367316\n2023-07-31 -3.908216 -0.575277 -5.130311  1.111932  0.580957\n2023-08-31 -4.108968  0.125122 -4.525281  2.462674 -0.491819\n2023-09-30 -4.532795  0.972435 -2.604858  1.804146 -0.738095\n2023-10-31 -4.689576  0.982161 -3.486771  1.991424  0.087352",
      "text/html": "<div>\n<style scoped>\n    .dataframe tbody tr th:only-of-type {\n        vertical-align: middle;\n    }\n\n    .dataframe tbody tr th {\n        vertical-align: top;\n    }\n\n    .dataframe thead th {\n        text-align: right;\n    }\n</style>\n<table border=\"1\" class=\"dataframe\">\n  <thead>\n    <tr style=\"text-align: right;\">\n      <th></th>\n      <th>A</th>\n      <th>B</th>\n      <th>C</th>\n      <th>D</th>\n      <th>E</th>\n    </tr>\n  </thead>\n  <tbody>\n    <tr>\n      <th>2023-01-31</th>\n      <td>-0.476473</td>\n      <td>-0.455775</td>\n      <td>-1.241204</td>\n      <td>-1.139026</td>\n      <td>-0.516083</td>\n    </tr>\n    <tr>\n      <th>2023-02-28</th>\n      <td>-1.537470</td>\n      <td>0.171400</td>\n      <td>-0.448752</td>\n      <td>-0.307933</td>\n      <td>0.895270</td>\n    </tr>\n    <tr>\n      <th>2023-03-31</th>\n      <td>-1.677960</td>\n      <td>-0.199329</td>\n      <td>-1.211655</td>\n      <td>-0.281112</td>\n      <td>0.031962</td>\n    </tr>\n    <tr>\n      <th>2023-04-30</th>\n      <td>-2.640638</td>\n      <td>-0.039965</td>\n      <td>-1.480435</td>\n      <td>-0.386769</td>\n      <td>-0.409519</td>\n    </tr>\n    <tr>\n      <th>2023-05-31</th>\n      <td>-3.805582</td>\n      <td>0.367769</td>\n      <td>-2.192894</td>\n      <td>-0.104027</td>\n      <td>-0.029887</td>\n    </tr>\n    <tr>\n      <th>2023-06-30</th>\n      <td>-2.656273</td>\n      <td>0.281330</td>\n      <td>-3.904318</td>\n      <td>1.078147</td>\n      <td>-0.367316</td>\n    </tr>\n    <tr>\n      <th>2023-07-31</th>\n      <td>-3.908216</td>\n      <td>-0.575277</td>\n      <td>-5.130311</td>\n      <td>1.111932</td>\n      <td>0.580957</td>\n    </tr>\n    <tr>\n      <th>2023-08-31</th>\n      <td>-4.108968</td>\n      <td>0.125122</td>\n      <td>-4.525281</td>\n      <td>2.462674</td>\n      <td>-0.491819</td>\n    </tr>\n    <tr>\n      <th>2023-09-30</th>\n      <td>-4.532795</td>\n      <td>0.972435</td>\n      <td>-2.604858</td>\n      <td>1.804146</td>\n      <td>-0.738095</td>\n    </tr>\n    <tr>\n      <th>2023-10-31</th>\n      <td>-4.689576</td>\n      <td>0.982161</td>\n      <td>-3.486771</td>\n      <td>1.991424</td>\n      <td>0.087352</td>\n    </tr>\n  </tbody>\n</table>\n</div>"
     },
     "execution_count": 18,
     "metadata": {},
     "output_type": "execute_result"
    }
   ],
   "source": [
    "df.cumsum() # получить куммулятивную сумму"
   ],
   "metadata": {
    "collapsed": false,
    "ExecuteTime": {
     "end_time": "2023-10-31T04:32:55.797062500Z",
     "start_time": "2023-10-31T04:32:55.725065300Z"
    }
   }
  },
  {
   "cell_type": "markdown",
   "source": [
    "Полезные функции:\n",
    ".mean(skipna = True)\tВозвращает среднюю величину для каждого столбца, пропуск NaN (по умолчанию True)\n",
    ".median(skipna = True)\tВозвращает медиану для каждого столбца, пропуск NaN (по умолчанию True)\n",
    ".mode(dropna = True)\tВозвращает медиану для каждого столбца, пропуск NaN\n",
    ".var()\tВозвращает дисперсию\n",
    ".std()\tВозвращает стандартное отклонение\n",
    ".diff()\tВозвращает абсолютную разность индексируемых значений\n",
    ".unique()\tВозвращает список уникальных значений\n",
    ".value_counts()\tПодсчитывает количество каждого уникального значения\n",
    ".describe()\tДаёт расширенное описание"
   ],
   "metadata": {
    "collapsed": false
   }
  },
  {
   "cell_type": "code",
   "execution_count": 19,
   "outputs": [
    {
     "data": {
      "text/plain": "A   -0.468958\nB    0.098216\nC   -0.348677\nD    0.199142\nE    0.008735\ndtype: float64"
     },
     "execution_count": 19,
     "metadata": {},
     "output_type": "execute_result"
    }
   ],
   "source": [
    "np.mean(df,axis=0) # К объектам DataFrame также можно применять универсальные функции NumPy. Пример mean"
   ],
   "metadata": {
    "collapsed": false,
    "ExecuteTime": {
     "end_time": "2023-10-31T04:38:30.045902200Z",
     "start_time": "2023-10-31T04:38:29.969344600Z"
    }
   }
  },
  {
   "cell_type": "code",
   "execution_count": 20,
   "outputs": [
    {
     "data": {
      "text/plain": "                   A         B         C         D         E\n2023-01-31  0.690270  0.675111  1.114094  1.067251  0.718389\n2023-02-28  1.030047  0.791944  0.890198  0.911643  1.188004\n2023-03-31  0.374819  0.608875  0.873443  0.163769  0.929144\n2023-04-30  0.981162  0.399204  0.518441  0.325049  0.664440\n2023-05-31  1.079326  0.638541  0.844073  0.531735  0.616143\n2023-06-30  1.072058  0.294005  1.308214  1.087278  0.580887\n2023-07-31  1.118903  0.925531  1.107246  0.183808  0.973794\n2023-08-31  0.448053  0.836898  0.777837  1.162214  1.035749\n2023-09-30  0.651020  0.920496  1.385793  0.811498  0.496262\n2023-10-31  0.395956  0.098622  0.939102  0.432757  0.908541",
      "text/html": "<div>\n<style scoped>\n    .dataframe tbody tr th:only-of-type {\n        vertical-align: middle;\n    }\n\n    .dataframe tbody tr th {\n        vertical-align: top;\n    }\n\n    .dataframe thead th {\n        text-align: right;\n    }\n</style>\n<table border=\"1\" class=\"dataframe\">\n  <thead>\n    <tr style=\"text-align: right;\">\n      <th></th>\n      <th>A</th>\n      <th>B</th>\n      <th>C</th>\n      <th>D</th>\n      <th>E</th>\n    </tr>\n  </thead>\n  <tbody>\n    <tr>\n      <th>2023-01-31</th>\n      <td>0.690270</td>\n      <td>0.675111</td>\n      <td>1.114094</td>\n      <td>1.067251</td>\n      <td>0.718389</td>\n    </tr>\n    <tr>\n      <th>2023-02-28</th>\n      <td>1.030047</td>\n      <td>0.791944</td>\n      <td>0.890198</td>\n      <td>0.911643</td>\n      <td>1.188004</td>\n    </tr>\n    <tr>\n      <th>2023-03-31</th>\n      <td>0.374819</td>\n      <td>0.608875</td>\n      <td>0.873443</td>\n      <td>0.163769</td>\n      <td>0.929144</td>\n    </tr>\n    <tr>\n      <th>2023-04-30</th>\n      <td>0.981162</td>\n      <td>0.399204</td>\n      <td>0.518441</td>\n      <td>0.325049</td>\n      <td>0.664440</td>\n    </tr>\n    <tr>\n      <th>2023-05-31</th>\n      <td>1.079326</td>\n      <td>0.638541</td>\n      <td>0.844073</td>\n      <td>0.531735</td>\n      <td>0.616143</td>\n    </tr>\n    <tr>\n      <th>2023-06-30</th>\n      <td>1.072058</td>\n      <td>0.294005</td>\n      <td>1.308214</td>\n      <td>1.087278</td>\n      <td>0.580887</td>\n    </tr>\n    <tr>\n      <th>2023-07-31</th>\n      <td>1.118903</td>\n      <td>0.925531</td>\n      <td>1.107246</td>\n      <td>0.183808</td>\n      <td>0.973794</td>\n    </tr>\n    <tr>\n      <th>2023-08-31</th>\n      <td>0.448053</td>\n      <td>0.836898</td>\n      <td>0.777837</td>\n      <td>1.162214</td>\n      <td>1.035749</td>\n    </tr>\n    <tr>\n      <th>2023-09-30</th>\n      <td>0.651020</td>\n      <td>0.920496</td>\n      <td>1.385793</td>\n      <td>0.811498</td>\n      <td>0.496262</td>\n    </tr>\n    <tr>\n      <th>2023-10-31</th>\n      <td>0.395956</td>\n      <td>0.098622</td>\n      <td>0.939102</td>\n      <td>0.432757</td>\n      <td>0.908541</td>\n    </tr>\n  </tbody>\n</table>\n</div>"
     },
     "execution_count": 20,
     "metadata": {},
     "output_type": "execute_result"
    }
   ],
   "source": [
    "np.sqrt(abs(df)) # К объектам DataFrame также можно применять универсальные функции NumPy. Пример: sqrt, abs"
   ],
   "metadata": {
    "collapsed": false,
    "ExecuteTime": {
     "end_time": "2023-10-31T04:40:31.461503500Z",
     "start_time": "2023-10-31T04:40:31.416487Z"
    }
   }
  },
  {
   "cell_type": "code",
   "execution_count": 21,
   "outputs": [
    {
     "data": {
      "text/plain": "A    7.841615\nB    6.189227\nC    9.758440\nD    6.677003\nE    8.111353\ndtype: float64"
     },
     "execution_count": 21,
     "metadata": {},
     "output_type": "execute_result"
    }
   ],
   "source": [
    "np.sqrt(abs(df)).sum() # К объектам DataFrame также можно применять универсальные функции NumPy. Пример: sqrt, abs, sum"
   ],
   "metadata": {
    "collapsed": false,
    "ExecuteTime": {
     "end_time": "2023-10-31T04:43:37.975690400Z",
     "start_time": "2023-10-31T04:43:37.917612700Z"
    }
   }
  },
  {
   "cell_type": "code",
   "execution_count": 22,
   "outputs": [
    {
     "data": {
      "text/plain": "                     A           B           C           D           E\n2023-01-31   52.352738   54.422494  -24.120435  -13.902566   48.391666\n2023-02-28   -6.099781  162.717481  179.245205  183.109300  241.135352\n2023-03-31   85.951046   62.927150   23.709772  102.682033   13.669200\n2023-04-30    3.732161  115.936365   73.121927   89.434296   55.851920\n2023-05-31  -16.494359  140.773459   28.754158  128.274205  137.963160\n2023-06-30  214.930904   91.356081  -71.142415  218.217452   66.257053\n2023-07-31  -25.194354   14.339284  -22.599333  103.378526  194.827392\n2023-08-31   79.924861  170.039889  160.502996  235.074171   -7.277688\n2023-09-30   57.617291  184.731307  292.042332   34.147137   75.372401\n2023-10-31   84.321854  100.972621   11.808672  118.727887  182.544751",
      "text/html": "<div>\n<style scoped>\n    .dataframe tbody tr th:only-of-type {\n        vertical-align: middle;\n    }\n\n    .dataframe tbody tr th {\n        vertical-align: top;\n    }\n\n    .dataframe thead th {\n        text-align: right;\n    }\n</style>\n<table border=\"1\" class=\"dataframe\">\n  <thead>\n    <tr style=\"text-align: right;\">\n      <th></th>\n      <th>A</th>\n      <th>B</th>\n      <th>C</th>\n      <th>D</th>\n      <th>E</th>\n    </tr>\n  </thead>\n  <tbody>\n    <tr>\n      <th>2023-01-31</th>\n      <td>52.352738</td>\n      <td>54.422494</td>\n      <td>-24.120435</td>\n      <td>-13.902566</td>\n      <td>48.391666</td>\n    </tr>\n    <tr>\n      <th>2023-02-28</th>\n      <td>-6.099781</td>\n      <td>162.717481</td>\n      <td>179.245205</td>\n      <td>183.109300</td>\n      <td>241.135352</td>\n    </tr>\n    <tr>\n      <th>2023-03-31</th>\n      <td>85.951046</td>\n      <td>62.927150</td>\n      <td>23.709772</td>\n      <td>102.682033</td>\n      <td>13.669200</td>\n    </tr>\n    <tr>\n      <th>2023-04-30</th>\n      <td>3.732161</td>\n      <td>115.936365</td>\n      <td>73.121927</td>\n      <td>89.434296</td>\n      <td>55.851920</td>\n    </tr>\n    <tr>\n      <th>2023-05-31</th>\n      <td>-16.494359</td>\n      <td>140.773459</td>\n      <td>28.754158</td>\n      <td>128.274205</td>\n      <td>137.963160</td>\n    </tr>\n    <tr>\n      <th>2023-06-30</th>\n      <td>214.930904</td>\n      <td>91.356081</td>\n      <td>-71.142415</td>\n      <td>218.217452</td>\n      <td>66.257053</td>\n    </tr>\n    <tr>\n      <th>2023-07-31</th>\n      <td>-25.194354</td>\n      <td>14.339284</td>\n      <td>-22.599333</td>\n      <td>103.378526</td>\n      <td>194.827392</td>\n    </tr>\n    <tr>\n      <th>2023-08-31</th>\n      <td>79.924861</td>\n      <td>170.039889</td>\n      <td>160.502996</td>\n      <td>235.074171</td>\n      <td>-7.277688</td>\n    </tr>\n    <tr>\n      <th>2023-09-30</th>\n      <td>57.617291</td>\n      <td>184.731307</td>\n      <td>292.042332</td>\n      <td>34.147137</td>\n      <td>75.372401</td>\n    </tr>\n    <tr>\n      <th>2023-10-31</th>\n      <td>84.321854</td>\n      <td>100.972621</td>\n      <td>11.808672</td>\n      <td>118.727887</td>\n      <td>182.544751</td>\n    </tr>\n  </tbody>\n</table>\n</div>"
     },
     "execution_count": 22,
     "metadata": {},
     "output_type": "execute_result"
    }
   ],
   "source": [
    "100 * df + 100 # Также можно применять простые операции"
   ],
   "metadata": {
    "collapsed": false,
    "ExecuteTime": {
     "end_time": "2023-10-31T04:45:36.250348700Z",
     "start_time": "2023-10-31T04:45:36.217197600Z"
    }
   }
  },
  {
   "cell_type": "code",
   "execution_count": null,
   "outputs": [],
   "source": [],
   "metadata": {
    "collapsed": false
   }
  }
 ],
 "metadata": {
  "kernelspec": {
   "display_name": "Python 3",
   "language": "python",
   "name": "python3"
  },
  "language_info": {
   "codemirror_mode": {
    "name": "ipython",
    "version": 2
   },
   "file_extension": ".py",
   "mimetype": "text/x-python",
   "name": "python",
   "nbconvert_exporter": "python",
   "pygments_lexer": "ipython2",
   "version": "2.7.6"
  }
 },
 "nbformat": 4,
 "nbformat_minor": 0
}

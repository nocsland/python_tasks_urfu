{
 "cells": [
  {
   "cell_type": "markdown",
   "source": [
    "Задание 1\n",
    "Допустим у вас есть файл с данными, который называется ‘iris.csv’. Этот файл находится в папке ‘/data/’. Какая из приведенных ниже команд корректно загрузит этот файл в датафрейм Pandas?"
   ],
   "metadata": {
    "collapsed": false
   }
  },
  {
   "cell_type": "markdown",
   "source": [
    "pd.read_csv('/data/iris.csv', delimiter = ';')"
   ],
   "metadata": {
    "collapsed": false
   }
  },
  {
   "cell_type": "markdown",
   "source": [
    "Задание 2\n",
    "Есть набор данных Car Moldova после удаления дубликатов: https://raw.githubusercontent.com/dayekb/Basic_ML_Alg/main/cars_moldova_no_dup.csv.\n",
    "Подготовьте ответы на следующие вопросы.\n",
    "1. Сколько строк в наборе данных?"
   ],
   "metadata": {
    "collapsed": false
   }
  },
  {
   "cell_type": "code",
   "execution_count": 36,
   "outputs": [
    {
     "data": {
      "text/plain": "37264"
     },
     "execution_count": 36,
     "metadata": {},
     "output_type": "execute_result"
    }
   ],
   "source": [
    "import pandas as pd\n",
    "df = pd.read_csv(\"https://raw.githubusercontent.com/dayekb/Basic_ML_Alg/main/cars_moldova_no_dup.csv\")\n",
    "len(df)"
   ],
   "metadata": {
    "collapsed": false,
    "ExecuteTime": {
     "end_time": "2023-11-05T08:15:43.109372Z",
     "start_time": "2023-11-05T08:15:41.713083600Z"
    }
   }
  },
  {
   "cell_type": "markdown",
   "source": [
    "2. Укажите медианное значение столбца с объемом двигателя (Engine_capacity(cm3)). В ответе укажите целую часть."
   ],
   "metadata": {
    "collapsed": false
   }
  },
  {
   "cell_type": "code",
   "execution_count": 15,
   "outputs": [
    {
     "data": {
      "text/plain": "1800.0"
     },
     "execution_count": 15,
     "metadata": {},
     "output_type": "execute_result"
    }
   ],
   "source": [
    "df[\"Engine_capacity(cm3)\"].median()"
   ],
   "metadata": {
    "collapsed": false,
    "ExecuteTime": {
     "end_time": "2023-11-04T15:47:03.342592400Z",
     "start_time": "2023-11-04T15:47:03.306159100Z"
    }
   }
  },
  {
   "cell_type": "markdown",
   "source": [
    "3. Укажите наиболее часто встречающийся тип топлива (Fuel_type) и число таких автомобилей. В первом ответе укажите строку без кавычек."
   ],
   "metadata": {
    "collapsed": false
   }
  },
  {
   "cell_type": "code",
   "execution_count": 38,
   "outputs": [
    {
     "data": {
      "text/plain": "Fuel_type\nDiesel            17198\nPetrol            13175\nMetan/Propan       4169\nHybrid             1976\nPlug-in Hybrid      464\nElectric            282\nName: count, dtype: int64"
     },
     "execution_count": 38,
     "metadata": {},
     "output_type": "execute_result"
    }
   ],
   "source": [
    "df[\"Fuel_type\"].value_counts()"
   ],
   "metadata": {
    "collapsed": false,
    "ExecuteTime": {
     "end_time": "2023-11-05T08:18:48.392069200Z",
     "start_time": "2023-11-05T08:18:48.335068400Z"
    }
   }
  },
  {
   "cell_type": "markdown",
   "source": [
    "Задание 3\n",
    "1. Укажите количество автомобилей, для которых тип кузова — Universal (столбец Style) и стоимость выше 10000 евро (столбец Price(euro))."
   ],
   "metadata": {
    "collapsed": false
   }
  },
  {
   "cell_type": "code",
   "execution_count": 39,
   "outputs": [
    {
     "data": {
      "text/plain": "868"
     },
     "execution_count": 39,
     "metadata": {},
     "output_type": "execute_result"
    }
   ],
   "source": [
    "len(df.loc[(df['Style'] =='Universal') & (df[\"Price(euro)\"]>10000)])"
   ],
   "metadata": {
    "collapsed": false,
    "ExecuteTime": {
     "end_time": "2023-11-05T08:20:19.881170100Z",
     "start_time": "2023-11-05T08:20:19.830788100Z"
    }
   }
  },
  {
   "cell_type": "markdown",
   "source": [
    "2. Укажите количество автомобилей, для которых марка автомобиля — Mercedes (столбец Make) и год выпуска — раньше 1980 года (столбец Year)."
   ],
   "metadata": {
    "collapsed": false
   }
  },
  {
   "cell_type": "code",
   "execution_count": 45,
   "outputs": [
    {
     "data": {
      "text/plain": "6"
     },
     "execution_count": 45,
     "metadata": {},
     "output_type": "execute_result"
    }
   ],
   "source": [
    "len(df.loc[(df[\"Make\"] == \"Mercedes\") & (df['Year']<1980)])"
   ],
   "metadata": {
    "collapsed": false,
    "ExecuteTime": {
     "end_time": "2023-11-04T17:54:32.816022600Z",
     "start_time": "2023-11-04T17:54:32.792696100Z"
    }
   }
  },
  {
   "cell_type": "markdown",
   "source": [
    "Задание 4\n",
    "Для решения этого задания вам необходимо воспользоваться методами groupby для агрегации данных, sort_values для сортировки таблицы.\n",
    "1. Найдите марку автомобилей (столбец Make) с наибольшей средней стоимостью (столбец Price(euro))"
   ],
   "metadata": {
    "collapsed": false
   }
  },
  {
   "cell_type": "code",
   "execution_count": 22,
   "outputs": [
    {
     "data": {
      "text/plain": "Make\nBrilliance      627021.750000\nMcLaren         179999.000000\nAston Martin    120000.000000\nBentley          82899.400000\nFerrari          49000.000000\n                    ...      \nDaewoo            2173.126582\nTata              2150.000000\nFaw               2000.000000\nZaz               1490.950000\nLifan             1366.500000\nName: Price(euro), Length: 87, dtype: float64"
     },
     "execution_count": 22,
     "metadata": {},
     "output_type": "execute_result"
    }
   ],
   "source": [
    "df.groupby(\"Make\")['Price(euro)'].mean().sort_values(ascending=False)\n"
   ],
   "metadata": {
    "collapsed": false,
    "ExecuteTime": {
     "end_time": "2023-11-05T06:07:19.448959500Z",
     "start_time": "2023-11-05T06:07:19.393832500Z"
    }
   }
  },
  {
   "cell_type": "markdown",
   "source": [
    "2. Найдите модель автомобилей (столбец Model) с наибольшим средним пробегом (столбец Distance)."
   ],
   "metadata": {
    "collapsed": false
   }
  },
  {
   "cell_type": "code",
   "execution_count": 23,
   "outputs": [
    {
     "data": {
      "text/plain": "Model\n145        5.000000e+07\nXsara      1.017050e+07\nEscort     9.338808e+06\nScudo      6.950257e+06\nBT-50      6.556666e+06\n               ...     \nH6         0.000000e+00\nEU5        0.000000e+00\nG3         0.000000e+00\nPoer       0.000000e+00\nX Class    0.000000e+00\nName: Distance, Length: 829, dtype: float64"
     },
     "execution_count": 23,
     "metadata": {},
     "output_type": "execute_result"
    }
   ],
   "source": [
    "df.groupby(\"Model\")[\"Distance\"].mean().sort_values(ascending=False)"
   ],
   "metadata": {
    "collapsed": false,
    "ExecuteTime": {
     "end_time": "2023-11-05T06:11:33.057871500Z",
     "start_time": "2023-11-05T06:11:33.019052400Z"
    }
   }
  },
  {
   "cell_type": "markdown",
   "source": [
    "3. Найдите тип топлива (столбец Fuel_type) с наименьшим средним годом выпуска (столбец Year)."
   ],
   "metadata": {
    "collapsed": false
   }
  },
  {
   "cell_type": "code",
   "execution_count": 30,
   "outputs": [
    {
     "data": {
      "text/plain": "Fuel_type\nElectric          2015.489362\nPlug-in Hybrid    2015.170259\nHybrid            2013.634109\nDiesel            2009.279160\nPetrol            2005.738292\nMetan/Propan      2003.296954\nName: Year, dtype: float64"
     },
     "execution_count": 30,
     "metadata": {},
     "output_type": "execute_result"
    }
   ],
   "source": [
    "df.groupby(\"Fuel_type\")[\"Year\"].mean().sort_values(ascending=False)"
   ],
   "metadata": {
    "collapsed": false,
    "ExecuteTime": {
     "end_time": "2023-11-05T06:23:59.821880400Z",
     "start_time": "2023-11-05T06:23:59.769429Z"
    }
   }
  },
  {
   "cell_type": "code",
   "execution_count": 32,
   "outputs": [
    {
     "data": {
      "text/plain": "52833.1525994951"
     },
     "execution_count": 32,
     "metadata": {},
     "output_type": "execute_result"
    }
   ],
   "source": [
    "df[\"Price(euro)\"].std()"
   ],
   "metadata": {
    "collapsed": false,
    "ExecuteTime": {
     "end_time": "2023-11-05T07:40:08.722953800Z",
     "start_time": "2023-11-05T07:40:08.624534600Z"
    }
   }
  }
 ],
 "metadata": {
  "kernelspec": {
   "display_name": "Python 3",
   "language": "python",
   "name": "python3"
  },
  "language_info": {
   "codemirror_mode": {
    "name": "ipython",
    "version": 2
   },
   "file_extension": ".py",
   "mimetype": "text/x-python",
   "name": "python",
   "nbconvert_exporter": "python",
   "pygments_lexer": "ipython2",
   "version": "2.7.6"
  }
 },
 "nbformat": 4,
 "nbformat_minor": 0
}
